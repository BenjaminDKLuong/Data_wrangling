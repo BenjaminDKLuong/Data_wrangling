{
 "cells": [
  {
   "cell_type": "markdown",
   "metadata": {},
   "source": [
    "# Wrangle Report\n",
    "\n",
    "## 1. Read file twitter-archive-enhanced.csv\n",
    "This step was easy for me.  I read the file using pandas, names it as df_archive.\n",
    "\n",
    "## 2. Download file on internet via given url\n",
    "I used requests to download the file and named it as image-prediction.tsv.  Then I read the downloaded file using read_csv, and named it as df_predictions\n",
    "\n",
    "## 3. Gather data from twitter API\n",
    "I used tweepy to connect to the Twitter API.  All the data is saved in the text-jason.txt file using json_dump.  Then I read it using pd.read_json, and named it as df_api.\n",
    "\n",
    "## 4. Assess \n",
    "**In this session, I looked throught all 3 datasets to check for problems**\n",
    "\n",
    "#### Quality: issues with content. Low quality data is also known as dirty data.\n",
    "- drop low quality data columns: in_reply_to_status_id, in_reply_to_user_id, retweeted_status_id, retweeted_status_user_id, retweeted_status_timestamp\n",
    "- timestamp: change datatype to datetime\n",
    "- tweet_id: change datatype to string\n",
    "- fix rating_numerator: by extract it from text column\n",
    "- img_num : change datatype to category (df_predictions)\n",
    "- replace None to NAN for doggo, floofer, pupper, and puppo columns\n",
    "- fill NAN in expanded_urls column : \"https://twitter.com/dog_rates/status/\" + df_archive_clean.tweet_id.astype(str)\n",
    "- make one tweet_id has only one dog_stage (I create this variable later)\n",
    "- dog_stage: change datatype to category\n",
    "\n",
    "#### Tidiness: issues with structure that prevent easy analysis. Untidy data is also known as messy data. Tidy data requirements:\n",
    "- Create dog_stage column from doggo, floofer, pupper, and puppo columns\n",
    "- Merge all data frames into one data frame\n",
    "\n",
    "## 5. Cleanning\n",
    "Dropping cloumns, changing datatype, changing None to NAN, and filling NAN were easy tasks for me.  However, melting the df_archive were hard.  I had to remove duplicates tweet_id in the data.  Some of tweet_ids had more than one dog_stages.  I could not use drop_duplicates function.  After trying my different ways, I finally came up with a solution.  I seperated dog_stage with value to a new dataset (df_with_dog_stage). I deleted the dog_stage from df_archive, and drop_duplicates to make each tweet_id unique.  In the df_with_dog_stage, there were some duplicates tweet_id also, and I dropped them.  Now, I could merge df_with_dog_stage and df_archive together on tweet_id.\n",
    "\n",
    "Next, I merged df_archive with 2 datasets: df_api and df_predictions to a new dataframe : twitter_archive_matter.csv\n",
    "\n",
    "Wrangling process was DONE\n"
   ]
  },
  {
   "cell_type": "code",
   "execution_count": null,
   "metadata": {
    "collapsed": true
   },
   "outputs": [],
   "source": []
  }
 ],
 "metadata": {
  "kernelspec": {
   "display_name": "Python 3",
   "language": "python",
   "name": "python3"
  },
  "language_info": {
   "codemirror_mode": {
    "name": "ipython",
    "version": 3
   },
   "file_extension": ".py",
   "mimetype": "text/x-python",
   "name": "python",
   "nbconvert_exporter": "python",
   "pygments_lexer": "ipython3",
   "version": "3.6.3"
  }
 },
 "nbformat": 4,
 "nbformat_minor": 2
}
